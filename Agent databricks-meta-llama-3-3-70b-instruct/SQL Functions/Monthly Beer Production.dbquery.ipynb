{
 "cells": [
  {
   "cell_type": "code",
   "execution_count": 0,
   "metadata": {
    "application/vnd.databricks.v1+cell": {
     "cellMetadata": {
      "byteLimit": 10485760,
      "rowLimit": 64000
     },
     "inputWidgets": {},
     "nuid": "751ec081-59d6-4e53-aed8-95a769d97333",
     "showTitle": false,
     "tableResultSettingsMap": {},
     "title": ""
    }
   },
   "outputs": [],
   "source": [
    "-- Define the function to calculate the average beer production\n",
    "CREATE OR REPLACE FUNCTION avg_beer_production(min_month DATE, max_month DATE)\n",
    "RETURNS DOUBLE\n",
    "LANGUAGE SQL\n",
    "COMMENT 'Returns the average Beer production in Austria with a Month between min_month (format yyyy-MM-dd) and max_month (format yyyy-MM-dd). Have data from 1956 - 1995'\n",
    "RETURN (\n",
    "  SELECT AVG(`Monthly beer production`)\n",
    "  FROM read_files(\n",
    "  '/Volumes/workspace/my_data/performance_analysis/monthly-beer-production-in-austr.csv',\n",
    "  format => 'csv',\n",
    "  header => true,\n",
    "  inferSchema => true -- Optional: automatically detect data types\n",
    "  )\n",
    "  WHERE to_date(`Month`) BETWEEN min_month AND max_month\n",
    ");\n",
    "\n",
    "-- Define the function to calculate the average beer production\n",
    "CREATE OR REPLACE FUNCTION total_beer_production(min_month DATE, max_month DATE)\n",
    "RETURNS DOUBLE\n",
    "LANGUAGE SQL\n",
    "COMMENT 'Returns the total Beer production in Austria with a Month between min_month (format yyyy-MM-dd) and max_month (format yyyy-MM-dd). Have data from 1956 - 1995'\n",
    "RETURN (\n",
    "  SELECT SUM(`Monthly beer production`)\n",
    "  FROM read_files(\n",
    "  '/Volumes/workspace/my_data/performance_analysis/monthly-beer-production-in-austr.csv',\n",
    "  format => 'csv',\n",
    "  header => true,\n",
    "  inferSchema => true -- Optional: automatically detect data types\n",
    "  )\n",
    "  WHERE to_date(`Month`) BETWEEN min_month AND max_month\n",
    ");"
   ]
  }
 ],
 "metadata": {
  "application/vnd.databricks.v1+notebook": {
   "computePreferences": null,
   "dashboards": [],
   "environmentMetadata": null,
   "inputWidgetPreferences": null,
   "language": "sql",
   "notebookMetadata": {
    "pythonIndentUnit": 4,
    "sqlQueryOptions": {
     "applyAutoLimit": false,
     "catalog": "workspace",
     "schema": "my_data"
    }
   },
   "notebookName": "Monthly Beer Production.dbquery.ipynb",
   "widgets": {}
  },
  "language_info": {
   "name": "sql"
  }
 },
 "nbformat": 4,
 "nbformat_minor": 0
}
